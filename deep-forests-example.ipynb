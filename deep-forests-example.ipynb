{
 "cells": [
  {
   "cell_type": "code",
   "execution_count": 1,
   "metadata": {
    "collapsed": false,
    "deletable": true,
    "editable": true
   },
   "outputs": [],
   "source": [
    "#\n",
    "# Inpired by https://arxiv.org/abs/1702.08835 and https://github.com/STO-OTZ/my_gcForest/\n",
    "#\n",
    "import numpy as np\n",
    "import random\n",
    "import uuid\n",
    "\n",
    "from sklearn.datasets import fetch_mldata\n",
    "from sklearn.ensemble import RandomForestClassifier\n",
    "from sklearn.metrics import accuracy_score, f1_score\n",
    "from sklearn.model_selection import train_test_split\n",
    "\n",
    "from deep_forest import MGCForest"
   ]
  },
  {
   "cell_type": "markdown",
   "metadata": {
    "collapsed": true,
    "deletable": true,
    "editable": true
   },
   "source": [
    "# The MNIST dataset"
   ]
  },
  {
   "cell_type": "code",
   "execution_count": 2,
   "metadata": {
    "collapsed": false,
    "deletable": true,
    "editable": true
   },
   "outputs": [
    {
     "name": "stdout",
     "output_type": "stream",
     "text": [
      "Data: (70000, 784), target: (70000,)\n"
     ]
    }
   ],
   "source": [
    "mnist = fetch_mldata('MNIST original', data_home='~/scikit-learn-datasets')\n",
    "mnist.data.shape\n",
    "\n",
    "print('Data: {}, target: {}'.format(mnist.data.shape, mnist.target.shape))"
   ]
  },
  {
   "cell_type": "code",
   "execution_count": 3,
   "metadata": {
    "collapsed": false,
    "deletable": true,
    "editable": true
   },
   "outputs": [
    {
     "name": "stdout",
     "output_type": "stream",
     "text": [
      "X_train: (1000, 784)\n",
      "y_train: (1000,)\n",
      "X_test: (1000, 784)\n",
      "y_test: (1000,)\n"
     ]
    }
   ],
   "source": [
    "X_train, X_test, y_train, y_test = train_test_split(mnist.data, mnist.target, test_size=0.5, random_state=42)\n",
    "\n",
    "#\n",
    "# Limit the size of the dataset\n",
    "#\n",
    "X_train = X_train[:1000]\n",
    "y_train = y_train[:1000]\n",
    "X_test = X_test[:1000]\n",
    "y_test = y_test[:1000]\n",
    "\n",
    "print('X_train:', X_train.shape)\n",
    "print('y_train:', y_train.shape)\n",
    "print('X_test:', X_test.shape)\n",
    "print('y_test:', y_test.shape)"
   ]
  },
  {
   "cell_type": "markdown",
   "metadata": {},
   "source": [
    "## Using the MGCForest\n",
    "\n",
    "Creates a simple *MGCForest* with 2 random forests for the *Multi-Grained-Scanning* process and 2 other random forests for the *Cascade* process."
   ]
  },
  {
   "cell_type": "code",
   "execution_count": 4,
   "metadata": {
    "collapsed": false,
    "deletable": true,
    "editable": true,
    "scrolled": true
   },
   "outputs": [
    {
     "name": "stderr",
     "output_type": "stream",
     "text": [
      "<MultiGrainedScanner 0.25> - Scanning and fitting for X ((1000, 784)) and y ((1000,)) started\n",
      "<MultiGrainedScanner 0.25> - Scanning turned X ((1000, 784)) into newX ((589000, 196)). 589 new instances were added per sample\n",
      "<MultiGrainedScanner 0.1111111111111111> - Scanning and fitting for X ((1000, 784)) and y ((1000,)) started\n",
      "<MultiGrainedScanner 0.1111111111111111> - Scanning turned X ((1000, 784)) into newX ((698000, 87)). 698 new instances were added per sample\n",
      "<MultiGrainedScanner 0.0625> - Scanning and fitting for X ((1000, 784)) and y ((1000,)) started\n",
      "<MultiGrainedScanner 0.0625> - Scanning turned X ((1000, 784)) into newX ((736000, 49)). 736 new instances were added per sample\n",
      "<CascadeForest 2> - Cascade fitting for X ((1000, 40460)) and y ((1000,)) started\n",
      "<CascadeForest 2> - Level 1:: X with shape: (1000, 40460)\n",
      "<CascadeForest 2> - Level 1:: got all predictions\n",
      "<CascadeForest 2> - Level 1:: got accuracy 0.929\n",
      "<CascadeForest 2> - Level 2:: X with shape: (1000, 40480)\n",
      "<CascadeForest 2> - Level 2:: got all predictions\n",
      "<CascadeForest 2> - Level 2:: got accuracy 0.929\n"
     ]
    }
   ],
   "source": [
    "mgc_forest = MGCForest(\n",
    "    estimator_class=RandomForestClassifier,\n",
    "    estimator_params={\n",
    "        'mgs': [{\n",
    "            'n_estimators': 30,\n",
    "            'min_samples_split': 21,\n",
    "            'max_features': 1,\n",
    "            'n_jobs': -1,\n",
    "        }, {\n",
    "            'n_estimators': 30,\n",
    "            'min_samples_split': 21,\n",
    "            'max_features': 'sqrt',\n",
    "            'n_jobs': -1,\n",
    "        }],\n",
    "        'cascade': [{\n",
    "            'n_estimators': 1000,\n",
    "            'min_samples_split': 11,\n",
    "            'max_features': 1,\n",
    "            'n_jobs': -1,\n",
    "        }, {\n",
    "            'n_estimators': 1000,\n",
    "            'min_samples_split': 11,\n",
    "            'max_features': 'sqrt',\n",
    "            'n_jobs': -1,\n",
    "        }]\n",
    "    },\n",
    "    stride_ratios=[1.0 / 4, 1.0 / 9, 1.0 / 16]\n",
    ")\n",
    "\n",
    "mgc_forest.fit(X_train, y_train)"
   ]
  },
  {
   "cell_type": "code",
   "execution_count": 5,
   "metadata": {
    "collapsed": false,
    "deletable": true,
    "editable": true
   },
   "outputs": [
    {
     "name": "stderr",
     "output_type": "stream",
     "text": [
      "<MultiGrainedScanner 0.25> - Predicting X ((1000, 784))\n",
      "<MultiGrainedScanner 0.1111111111111111> - Predicting X ((1000, 784))\n",
      "<MultiGrainedScanner 0.0625> - Predicting X ((1000, 784))\n",
      "<CascadeForest 2> - Shape of predictions: (2, 1000, 10) shape of X: (1000, 40460)\n"
     ]
    },
    {
     "name": "stdout",
     "output_type": "stream",
     "text": [
      "Prediction shape: (1000,)\n",
      "Accuracy: 0.938 F1 score: 0.938046118093\n"
     ]
    }
   ],
   "source": [
    "y_pred = mgc_forest.predict(X_test)\n",
    "\n",
    "print('Prediction shape:', y_pred.shape)\n",
    "print('Accuracy:', accuracy_score(y_test, y_pred), 'F1 score:', f1_score(y_test, y_pred, average='weighted'))"
   ]
  }
 ],
 "metadata": {
  "kernelspec": {
   "display_name": "Python 3",
   "language": "python",
   "name": "python3"
  },
  "language_info": {
   "codemirror_mode": {
    "name": "ipython",
    "version": 3
   },
   "file_extension": ".py",
   "mimetype": "text/x-python",
   "name": "python",
   "nbconvert_exporter": "python",
   "pygments_lexer": "ipython3",
   "version": "3.6.0"
  }
 },
 "nbformat": 4,
 "nbformat_minor": 2
}
